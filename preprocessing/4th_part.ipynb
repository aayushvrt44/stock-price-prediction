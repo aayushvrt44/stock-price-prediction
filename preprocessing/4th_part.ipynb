{
 "cells": [
  {
   "attachments": {},
   "cell_type": "markdown",
   "metadata": {},
   "source": [
    "finding missing indusrty from merge.shape2 file and appending it with merge.result"
   ]
  },
  {
   "cell_type": "code",
   "execution_count": 1,
   "metadata": {},
   "outputs": [],
   "source": [
    "import pandas as pd\n",
    "import numpy as np"
   ]
  },
  {
   "cell_type": "code",
   "execution_count": 2,
   "metadata": {},
   "outputs": [],
   "source": [
    "ticker=pd.read_csv('merge_result.csv')\n",
    "sector=pd.read_csv('merge.shape2.csv')"
   ]
  },
  {
   "cell_type": "code",
   "execution_count": 3,
   "metadata": {},
   "outputs": [],
   "source": [
    "ticker_arr=np.array(ticker)\n",
    "sector_arr=np.array(sector)"
   ]
  },
  {
   "cell_type": "code",
   "execution_count": 4,
   "metadata": {},
   "outputs": [],
   "source": [
    "# printif(type(ticker_arr[2][3])==float):('f')"
   ]
  },
  {
   "cell_type": "code",
   "execution_count": null,
   "metadata": {},
   "outputs": [],
   "source": []
  },
  {
   "cell_type": "code",
   "execution_count": 5,
   "metadata": {},
   "outputs": [
    {
     "data": {
      "text/plain": [
       "array([2, '63MOONS', '63 moons technologies limited', nan, nan, 'EQ',\n",
       "       '20-Jun-05', 2, 1, 'INE111B01023', 2], dtype=object)"
      ]
     },
     "execution_count": 5,
     "metadata": {},
     "output_type": "execute_result"
    }
   ],
   "source": [
    "ticker_arr[2]"
   ]
  },
  {
   "cell_type": "code",
   "execution_count": 6,
   "metadata": {},
   "outputs": [
    {
     "data": {
      "text/plain": [
       "'Finance - General'"
      ]
     },
     "execution_count": 6,
     "metadata": {},
     "output_type": "execute_result"
    }
   ],
   "source": [
    "sector_arr[0][3]"
   ]
  },
  {
   "cell_type": "code",
   "execution_count": 7,
   "metadata": {},
   "outputs": [
    {
     "data": {
      "text/plain": [
       "'20MICRONS'"
      ]
     },
     "execution_count": 7,
     "metadata": {},
     "output_type": "execute_result"
    }
   ],
   "source": [
    "ticker_arr[0][1]"
   ]
  },
  {
   "cell_type": "code",
   "execution_count": 24,
   "metadata": {},
   "outputs": [
    {
     "data": {
      "text/plain": [
       "'EQ'"
      ]
     },
     "execution_count": 24,
     "metadata": {},
     "output_type": "execute_result"
    }
   ],
   "source": []
  },
  {
   "cell_type": "code",
   "execution_count": 19,
   "metadata": {},
   "outputs": [
    {
     "data": {
      "text/plain": [
       "'Computers - Software'"
      ]
     },
     "execution_count": 19,
     "metadata": {},
     "output_type": "execute_result"
    }
   ],
   "source": [
    "sector_arr[1][3]"
   ]
  },
  {
   "cell_type": "code",
   "execution_count": 8,
   "metadata": {},
   "outputs": [],
   "source": [
    "k=0\n",
    "flag=0\n",
    "for i in range ((ticker.shape)[0]):\n",
    "    if type(ticker_arr[i][3]==float):\n",
    "\n",
    "        for j in range((sector_arr.shape)[0]):\n",
    "            if ticker_arr[i][1]==sector_arr[j][1]:\n",
    "                ticker_arr[i][3]=sector_arr[j][3]\n",
    "    \n"
   ]
  },
  {
   "cell_type": "code",
   "execution_count": 9,
   "metadata": {},
   "outputs": [],
   "source": [
    "ticker_arr=pd.DataFrame(ticker_arr)"
   ]
  },
  {
   "cell_type": "code",
   "execution_count": 10,
   "metadata": {},
   "outputs": [
    {
     "data": {
      "text/html": [
       "<div>\n",
       "<style scoped>\n",
       "    .dataframe tbody tr th:only-of-type {\n",
       "        vertical-align: middle;\n",
       "    }\n",
       "\n",
       "    .dataframe tbody tr th {\n",
       "        vertical-align: top;\n",
       "    }\n",
       "\n",
       "    .dataframe thead th {\n",
       "        text-align: right;\n",
       "    }\n",
       "</style>\n",
       "<table border=\"1\" class=\"dataframe\">\n",
       "  <thead>\n",
       "    <tr style=\"text-align: right;\">\n",
       "      <th></th>\n",
       "      <th>0</th>\n",
       "      <th>1</th>\n",
       "      <th>2</th>\n",
       "      <th>3</th>\n",
       "      <th>4</th>\n",
       "      <th>5</th>\n",
       "      <th>6</th>\n",
       "      <th>7</th>\n",
       "      <th>8</th>\n",
       "      <th>9</th>\n",
       "      <th>10</th>\n",
       "    </tr>\n",
       "  </thead>\n",
       "  <tbody>\n",
       "    <tr>\n",
       "      <th>0</th>\n",
       "      <td>0</td>\n",
       "      <td>20MICRONS</td>\n",
       "      <td>20 Microns Limited</td>\n",
       "      <td>Miscellaneous</td>\n",
       "      <td>Mining/Minerals</td>\n",
       "      <td>EQ</td>\n",
       "      <td>06-Oct-08</td>\n",
       "      <td>5</td>\n",
       "      <td>1</td>\n",
       "      <td>INE144J01027</td>\n",
       "      <td>5</td>\n",
       "    </tr>\n",
       "    <tr>\n",
       "      <th>1</th>\n",
       "      <td>1</td>\n",
       "      <td>3MINDIA</td>\n",
       "      <td>3M India Limited</td>\n",
       "      <td>Packaging</td>\n",
       "      <td>Diversified</td>\n",
       "      <td>EQ</td>\n",
       "      <td>13-Aug-04</td>\n",
       "      <td>10</td>\n",
       "      <td>1</td>\n",
       "      <td>INE470A01017</td>\n",
       "      <td>10</td>\n",
       "    </tr>\n",
       "    <tr>\n",
       "      <th>2</th>\n",
       "      <td>2</td>\n",
       "      <td>63MOONS</td>\n",
       "      <td>63 moons technologies limited</td>\n",
       "      <td>Computers - Software</td>\n",
       "      <td>NaN</td>\n",
       "      <td>EQ</td>\n",
       "      <td>20-Jun-05</td>\n",
       "      <td>2</td>\n",
       "      <td>1</td>\n",
       "      <td>INE111B01023</td>\n",
       "      <td>2</td>\n",
       "    </tr>\n",
       "    <tr>\n",
       "      <th>3</th>\n",
       "      <td>3</td>\n",
       "      <td>A2ZINFRA</td>\n",
       "      <td>A2Z Infra Engineering Limited</td>\n",
       "      <td>Infrastructure - General</td>\n",
       "      <td>Engineering - General</td>\n",
       "      <td>EQ</td>\n",
       "      <td>23-Dec-10</td>\n",
       "      <td>10</td>\n",
       "      <td>1</td>\n",
       "      <td>INE619I01012</td>\n",
       "      <td>10</td>\n",
       "    </tr>\n",
       "    <tr>\n",
       "      <th>4</th>\n",
       "      <td>4</td>\n",
       "      <td>AARTIDRUGS</td>\n",
       "      <td>Aarti Drugs Limited</td>\n",
       "      <td>Chemicals</td>\n",
       "      <td>Pharmaceuticals</td>\n",
       "      <td>EQ</td>\n",
       "      <td>19-Sep-03</td>\n",
       "      <td>10</td>\n",
       "      <td>1</td>\n",
       "      <td>INE767A01016</td>\n",
       "      <td>10</td>\n",
       "    </tr>\n",
       "  </tbody>\n",
       "</table>\n",
       "</div>"
      ],
      "text/plain": [
       "  0           1                              2                         3   \\\n",
       "0  0   20MICRONS             20 Microns Limited             Miscellaneous   \n",
       "1  1     3MINDIA               3M India Limited                 Packaging   \n",
       "2  2     63MOONS  63 moons technologies limited      Computers - Software   \n",
       "3  3    A2ZINFRA  A2Z Infra Engineering Limited  Infrastructure - General   \n",
       "4  4  AARTIDRUGS            Aarti Drugs Limited                 Chemicals   \n",
       "\n",
       "                      4   5          6   7  8             9   10  \n",
       "0        Mining/Minerals  EQ  06-Oct-08   5  1  INE144J01027   5  \n",
       "1            Diversified  EQ  13-Aug-04  10  1  INE470A01017  10  \n",
       "2                    NaN  EQ  20-Jun-05   2  1  INE111B01023   2  \n",
       "3  Engineering - General  EQ  23-Dec-10  10  1  INE619I01012  10  \n",
       "4        Pharmaceuticals  EQ  19-Sep-03  10  1  INE767A01016  10  "
      ]
     },
     "execution_count": 10,
     "metadata": {},
     "output_type": "execute_result"
    }
   ],
   "source": [
    "ticker_arr.head()"
   ]
  },
  {
   "cell_type": "code",
   "execution_count": 11,
   "metadata": {},
   "outputs": [],
   "source": [
    "ticker_arr=np.array(ticker_arr)"
   ]
  },
  {
   "cell_type": "code",
   "execution_count": 12,
   "metadata": {},
   "outputs": [],
   "source": [
    "k=0\n",
    "flag=0\n",
    "for i in range ((ticker.shape)[0]):\n",
    "    if type(ticker_arr[i][4]==float):\n",
    "        ticker_arr[i][4]=ticker_arr[i][3]"
   ]
  },
  {
   "cell_type": "code",
   "execution_count": 13,
   "metadata": {},
   "outputs": [],
   "source": [
    "ticker_arr=pd.DataFrame(ticker_arr)"
   ]
  },
  {
   "cell_type": "code",
   "execution_count": 14,
   "metadata": {},
   "outputs": [],
   "source": [
    "ticker_arr.to_csv('final_merge.csv')"
   ]
  },
  {
   "cell_type": "code",
   "execution_count": null,
   "metadata": {},
   "outputs": [],
   "source": []
  }
 ],
 "metadata": {
  "kernelspec": {
   "display_name": "Python 3.9.7 ('base')",
   "language": "python",
   "name": "python3"
  },
  "language_info": {
   "codemirror_mode": {
    "name": "ipython",
    "version": 3
   },
   "file_extension": ".py",
   "mimetype": "text/x-python",
   "name": "python",
   "nbconvert_exporter": "python",
   "pygments_lexer": "ipython3",
   "version": "3.9.7"
  },
  "orig_nbformat": 4,
  "vscode": {
   "interpreter": {
    "hash": "ad2bdc8ecc057115af97d19610ffacc2b4e99fae6737bb82f5d7fb13d2f2c186"
   }
  }
 },
 "nbformat": 4,
 "nbformat_minor": 2
}
